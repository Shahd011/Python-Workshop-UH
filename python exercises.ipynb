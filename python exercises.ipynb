{
 "cells": [
  {
   "cell_type": "code",
   "execution_count": 5,
   "id": "256125cd-bc4a-4f8f-ba7e-b9c3ed564654",
   "metadata": {},
   "outputs": [
    {
     "name": "stdout",
     "output_type": "stream",
     "text": [
      "15\n"
     ]
    }
   ],
   "source": [
    "def sum_of_list(numbers):\n",
    "    total = 0\n",
    "    for num in numbers:\n",
    "        total += num\n",
    "    return total\n",
    "numbers = [1, 2, 3, 4, 5]\n",
    "print(sum_of_list(numbers))"
   ]
  },
  {
   "cell_type": "code",
   "execution_count": 7,
   "id": "0dad291a-534c-4469-a6c5-cd61cc300388",
   "metadata": {},
   "outputs": [
    {
     "name": "stdout",
     "output_type": "stream",
     "text": [
      "Random Numbers: [2, 2, 6, 4, 7, 2, 1, 2, 5, 9, 2, 1, 10, 10, 10, 2, 4, 6, 10, 9]\n",
      "Duplicates: {1, 2, 4, 6, 9, 10}\n"
     ]
    }
   ],
   "source": [
    "import random\n",
    "random_numbers = [random.randint(1, 10) for _ in range(20)]\n",
    "duplicates = {num for num in random_numbers if random_numbers.count(num) > 1}\n",
    "\n",
    "print(\"Random Numbers:\", random_numbers)\n",
    "print(\"Duplicates:\", duplicates)"
   ]
  },
  {
   "cell_type": "code",
   "execution_count": 18,
   "id": "5debd822-15dd-4a91-bcc6-4db47704b368",
   "metadata": {},
   "outputs": [
    {
     "name": "stdout",
     "output_type": "stream",
     "text": [
      "# # # # # # # # #\n",
      "# # # # # # # # #\n",
      "# # # # # # # # #\n",
      "# # # # # # # # #\n",
      "# # # # # # # # #\n",
      "# # # # # # # # #\n"
     ]
    }
   ],
   "source": [
    "def print_pattern():\n",
    "    pattern = [\n",
    "        ['#', ' ', '#', ' ' , '#' ,' ','#',' ','#',' ','#', ' ', '#', ' ' , '#' ,' ','#'],\n",
    "        ['# # # # # # # # #'],\n",
    "        ['# # # # # # # # #'],\n",
    "        ['# # # # # # # # #'],\n",
    "        ['# # # # # # # # #'],\n",
    "        ['# # # # # # # # #'],\n",
    "    ]\n",
    "    for row in pattern:\n",
    "        print(\"\".join(row))\n",
    "print_pattern()"
   ]
  },
  {
   "cell_type": "code",
   "execution_count": 26,
   "id": "73d231ea-a550-4ae5-9edb-506b0d48c23e",
   "metadata": {},
   "outputs": [
    {
     "name": "stdout",
     "output_type": "stream",
     "text": [
      "['lemon', 'mango', 'orange', 'banana']\n"
     ]
    }
   ],
   "source": [
    "def reverse_fruit_list(fruits):\n",
    "    reversed_list = []\n",
    "    for fruit in fruits[::-1]:\n",
    "        reversed_list.append(fruit)\n",
    "    return reversed_list\n",
    "fruits = ['banana', 'orange', 'mango', 'lemon']\n",
    "print(reverse_fruit_list(fruits)) "
   ]
  },
  {
   "cell_type": "code",
   "execution_count": 28,
   "id": "72047fcc-9f70-45f2-a09f-cbb4099d7da3",
   "metadata": {},
   "outputs": [
    {
     "name": "stdout",
     "output_type": "stream",
     "text": [
      "['Finland', 'Iceland', 'Ireland', 'Netherland', 'Thailand', 'Switzerland', 'Poland', 'Greenland']\n"
     ]
    }
   ],
   "source": [
    "def extract_countries_with_land(countries):\n",
    "    return [country for country in countries if 'land' in country]\n",
    "countries = ['Finland', 'Iceland','Ireland','Netherland','Egypt', 'Thailand', 'Switzerland', 'Germany', 'Poland','Greenland',]\n",
    "print(extract_countries_with_land(countries))  "
   ]
  },
  {
   "cell_type": "code",
   "execution_count": 34,
   "id": "788e2980-0c55-4894-a1fc-ee68b82861a9",
   "metadata": {},
   "outputs": [
    {
     "name": "stdout",
     "output_type": "stream",
     "text": [
      "Middle skill: Node\n",
      "Has Python skill: True\n",
      "He is a backend developer\n",
      "Asabeneh Yetayeh lives in Finland. He is married.\n"
     ]
    }
   ],
   "source": [
    "# Corrected person dictionary\n",
    "person = {\n",
    "    'first_name': 'Asabeneh',\n",
    "    'last_name': 'Yetayeh',\n",
    "    'age': 250,\n",
    "    'country': 'Finland',\n",
    "    'is_married': True,\n",
    "    'skills': ['JavaScript', 'React', 'Node', 'MongoDB', 'Python'],\n",
    "    'address': {\n",
    "        'street': 'Space street',\n",
    "        'zipcode': '02210'\n",
    "    }\n",
    "}\n",
    "\n",
    "# Check if 'skills' key exists and print the middle skill if it does\n",
    "if 'skills' in person:\n",
    "    skills = person['skills']\n",
    "    middle_index = len(skills) // 2\n",
    "    middle_skill = skills[middle_index]\n",
    "    print(f\"Middle skill: {middle_skill}\")\n",
    "\n",
    "    # Check if 'Python' skill is in the skills list\n",
    "    has_python = 'Python' in skills\n",
    "    print(f\"Has Python skill: {has_python}\")\n",
    "\n",
    "    # Determine job title based on skills\n",
    "    if 'JavaScript' in skills and 'React' in skills and len(skills) == 2:\n",
    "        print('He is a front end developer')\n",
    "    elif {'Node', 'Python', 'MongoDB'}.issubset(set(skills)):\n",
    "        print('He is a backend developer')\n",
    "    elif {'React', 'Node', 'MongoDB'}.issubset(set(skills)):\n",
    "        print('He is a fullstack developer')\n",
    "    else:\n",
    "        print('Unknown title')\n",
    "\n",
    "# Check if the person is married and lives in Finland\n",
    "if person['is_married'] and person['country'] == 'Finland':\n",
    "    print(f\"{person['first_name']} {person['last_name']} lives in Finland. He is married.\")\n"
   ]
  },
  {
   "cell_type": "code",
   "execution_count": 42,
   "id": "b427e8e7-a84a-4e22-a489-337103041efb",
   "metadata": {},
   "outputs": [
    {
     "name": "stdout",
     "output_type": "stream",
     "text": [
      "True\n",
      "False\n",
      "True\n",
      "True\n"
     ]
    }
   ],
   "source": [
    "def all_same_type(lst):\n",
    "    if not lst: \n",
    "        return True\n",
    "\n",
    "    first_type = type(lst[0])  \n",
    "    return all(type(item) == first_type for item in lst)\n",
    "\n",
    "example_list = [1, 2, 3, 4]\n",
    "print(all_same_type(example_list)) \n",
    "example_list = [1, '2', 3, 4]\n",
    "print(all_same_type(example_list))  \n",
    "example_list = []\n",
    "print(all_same_type(example_list)) \n",
    "example_list = [4, 3, 2, 1]\n",
    "print(all_same_type(example_list))  \n"
   ]
  },
  {
   "cell_type": "code",
   "execution_count": 52,
   "id": "0061a0d2-689a-4bcd-85cc-712074e14d1f",
   "metadata": {},
   "outputs": [
    {
     "name": "stdout",
     "output_type": "stream",
     "text": [
      "True\n",
      "False\n",
      "False\n",
      "True\n",
      "False\n"
     ]
    }
   ],
   "source": [
    "import keyword\n",
    "\n",
    "def is_valid_python_variable(name):\n",
    "    \n",
    "    return name.isidentifier() and not keyword.iskeyword(name)\n",
    "    \n",
    "print(is_valid_python_variable(\"valid_variable\")) \n",
    "print(is_valid_python_variable(\"2invalid_variable\")) \n",
    "print(is_valid_python_variable(\"if\"))  \n",
    "print(is_valid_python_variable(\"valid_variable_123\")) \n",
    "print(is_valid_variable(\"for\"))  "
   ]
  },
  {
   "cell_type": "code",
   "execution_count": 56,
   "id": "4cf62361-e889-47f7-bd02-7dce7e500cc0",
   "metadata": {},
   "outputs": [
    {
     "name": "stdout",
     "output_type": "stream",
     "text": [
      "Mean: 5.0\n",
      "Median: 5.0\n",
      "Mode: [5]\n",
      "Range: 8\n",
      "Variance: 6.0\n",
      "Standard Deviation: 2.449489742783178\n"
     ]
    }
   ],
   "source": [
    "from collections import Counter\n",
    "import math\n",
    "\n",
    "def calculate_mean(lst):\n",
    "    return sum(lst) / len(lst) if lst else 0\n",
    "\n",
    "def calculate_median(lst):\n",
    "    if not lst:\n",
    "        return 0\n",
    "    sorted_lst = sorted(lst)\n",
    "    n = len(sorted_lst)\n",
    "    mid = n // 2\n",
    "    if n % 2 == 0:\n",
    "        return (sorted_lst[mid - 1] + sorted_lst[mid]) / 2\n",
    "    else:\n",
    "        return sorted_lst[mid]\n",
    "\n",
    "def calculate_mode(lst):\n",
    "    if not lst:\n",
    "        return []\n",
    "    frequency = Counter(lst)\n",
    "    max_freq = max(frequency.values())\n",
    "    mode = [key for key, value in frequency.items() if value == max_freq]\n",
    "    return mode\n",
    "\n",
    "def calculate_range(lst):\n",
    "    if not lst:\n",
    "        return 0\n",
    "    return max(lst) - min(lst)\n",
    "\n",
    "def calculate_variance(lst):\n",
    "    if not lst:\n",
    "        return 0\n",
    "    mean = calculate_mean(lst)\n",
    "    return sum((x - mean) ** 2 for x in lst) / len(lst)\n",
    "\n",
    "def calculate_std(lst):\n",
    "    return math.sqrt(calculate_variance(lst))\n",
    "\n",
    "numbers = [1, 2, 3, 4, 5, 5, 6, 7, 8, 9]\n",
    "\n",
    "print(f\"Mean: {calculate_mean(numbers)}\")\n",
    "print(f\"Median: {calculate_median(numbers)}\")\n",
    "print(f\"Mode: {calculate_mode(numbers)}\")\n",
    "print(f\"Range: {calculate_range(numbers)}\")\n",
    "print(f\"Variance: {calculate_variance(numbers)}\")\n",
    "print(f\"Standard Deviation: {calculate_std(numbers)}\")\n"
   ]
  },
  {
   "cell_type": "code",
   "execution_count": 58,
   "id": "b099164a-3283-4945-acbe-61dd50eec6e6",
   "metadata": {},
   "outputs": [
    {
     "name": "stdout",
     "output_type": "stream",
     "text": [
      "Enter the distance traveled (in kilometers):  3.2\n"
     ]
    },
    {
     "name": "stdout",
     "output_type": "stream",
     "text": [
      "Total fare for 3.2 kilometers is $9.71\n"
     ]
    }
   ],
   "source": [
    "BASE_FARE = 4.00  \n",
    "RATE_PER_140_METERS = 0.25 \n",
    "METERS_PER_KILOMETER = 1000 \n",
    "\n",
    "def calculate_taxi_fare(distance_km):\n",
    "   \n",
    "    distance_meters = distance_km * METERS_PER_KILOMETER\n",
    "\n",
    "    num_increments = distance_meters / 140\n",
    "    \n",
    "    total_fare = BASE_FARE + (num_increments * RATE_PER_140_METERS)\n",
    "    \n",
    "    return total_fare\n",
    "\n",
    "if __name__ == \"__main__\":\n",
    "    distance = float(input(\"Enter the distance traveled (in kilometers): \"))\n",
    "    fare = calculate_taxi_fare(distance)\n",
    "    print(f\"Total fare for {distance} kilometers is ${fare:.2f}\")\n"
   ]
  },
  {
   "cell_type": "code",
   "execution_count": 60,
   "id": "6253d0cb-0e5c-4a18-83c7-6eae77a1fdb3",
   "metadata": {},
   "outputs": [
    {
     "name": "stdout",
     "output_type": "stream",
     "text": [
      "Enter the number of rows:  7\n"
     ]
    },
    {
     "name": "stdout",
     "output_type": "stream",
     "text": [
      "1\n",
      "12\n",
      "123\n",
      "1234\n",
      "12345\n",
      "123456\n",
      "1234567\n"
     ]
    }
   ],
   "source": [
    "def pattern1(n):\n",
    "    for i in range(1, n + 1):\n",
    "        print(''.join(str(j) for j in range(1, i + 1)))\n",
    "\n",
    "rows = int(input(\"Enter the number of rows: \"))\n",
    "pattern1(rows)\n"
   ]
  },
  {
   "cell_type": "code",
   "execution_count": 62,
   "id": "78b00a9d-3fc4-4e25-9ce9-043d8403402c",
   "metadata": {},
   "outputs": [
    {
     "name": "stdout",
     "output_type": "stream",
     "text": [
      "Enter the number of rows:  7\n"
     ]
    },
    {
     "name": "stdout",
     "output_type": "stream",
     "text": [
      "7654321\n",
      "654321\n",
      "54321\n",
      "4321\n",
      "321\n",
      "21\n",
      "1\n"
     ]
    }
   ],
   "source": [
    "def pattern2(n):\n",
    "    for i in range(n, 0, -1):\n",
    "        print(''.join(str(j) for j in range(i, 0, -1)))\n",
    "\n",
    "rows = int(input(\"Enter the number of rows: \"))\n",
    "pattern2(rows)\n"
   ]
  },
  {
   "cell_type": "code",
   "execution_count": 70,
   "id": "d50a5510-7b52-419d-9d90-89e6f0e22443",
   "metadata": {},
   "outputs": [
    {
     "name": "stdout",
     "output_type": "stream",
     "text": [
      "Enter the number of rows:  7\n"
     ]
    },
    {
     "name": "stdout",
     "output_type": "stream",
     "text": [
      "1\n",
      "21\n",
      "321\n",
      "4321\n",
      "54321\n",
      "654321\n",
      "7654321\n"
     ]
    }
   ],
   "source": [
    "def pattern2(n):\n",
    "    for i in range(1, n + 1):\n",
    "        line = ''.join(str(j) for j in range(i, 0, -1))\n",
    "        print(line)\n",
    "        \n",
    "rows = int(input(\"Enter the number of rows: \"))\n",
    "pattern2(rows)\n"
   ]
  },
  {
   "cell_type": "code",
   "execution_count": 72,
   "id": "f70fd6ff-af19-49b2-8d99-f703da356c6a",
   "metadata": {},
   "outputs": [
    {
     "name": "stdout",
     "output_type": "stream",
     "text": [
      "Enter the number of rows:  6\n"
     ]
    },
    {
     "name": "stdout",
     "output_type": "stream",
     "text": [
      "* * * * * * \n",
      " * * * * * \n",
      "  * * * * \n",
      "   * * * \n",
      "    * * \n",
      "     * \n"
     ]
    }
   ],
   "source": [
    "def pattern3(n):\n",
    "    for i in range(n):\n",
    "        print(' ' * i + '* ' * (n - i))\n",
    "\n",
    "rows = int(input(\"Enter the number of rows: \"))\n",
    "pattern3(rows)\n"
   ]
  },
  {
   "cell_type": "code",
   "execution_count": 74,
   "id": "55244505-a46d-4f26-8816-df3ef6a40951",
   "metadata": {},
   "outputs": [
    {
     "name": "stdout",
     "output_type": "stream",
     "text": [
      "Hello World!\n"
     ]
    }
   ],
   "source": [
    "str = 'Hello World!'\n",
    "print(str)"
   ]
  },
  {
   "cell_type": "code",
   "execution_count": 86,
   "id": "c7952613-b482-44b2-b2be-a69ae138eccd",
   "metadata": {},
   "outputs": [
    {
     "name": "stdout",
     "output_type": "stream",
     "text": [
      "enter grade:  90\n"
     ]
    },
    {
     "name": "stdout",
     "output_type": "stream",
     "text": [
      "your grade Is A\n"
     ]
    }
   ],
   "source": [
    "grade = int(input('enter grade: '))           \n",
    "if grade >= 90:\n",
    "   print('your grade Is A')\n",
    "elif grade >= 70:\n",
    "   print( \"your grade is B\")\n",
    "elif grade >= 60:\n",
    "   print(\"your grade is c\")\n",
    "elif grade >= 50:\n",
    "   print(\" your grade is D\")\n",
    "else:\n",
    "   print(\" your grade Is f\")"
   ]
  },
  {
   "cell_type": "code",
   "execution_count": 11,
   "id": "0f06d82d-b9bf-4f00-889a-495da5f265f5",
   "metadata": {},
   "outputs": [
    {
     "name": "stdout",
     "output_type": "stream",
     "text": [
      "Enter 1st grade:  95\n",
      "Enter 2nd grade:  100\n",
      "Enter 3rd grade:  90\n"
     ]
    },
    {
     "name": "stdout",
     "output_type": "stream",
     "text": [
      "Your grade is A\n",
      "your average is: 95.0\n"
     ]
    }
   ],
   "source": [
    "def calculate_average(first, second, third):\n",
    "    return (first + second + third) / 3\n",
    "    \n",
    "first = int(input('Enter 1st grade: '))\n",
    "second = int(input('Enter 2nd grade: '))\n",
    "third = int(input('Enter 3rd grade: '))\n",
    "\n",
    "avg = calculate_average(first, second, third)\n",
    "\n",
    "if avg >= 90:\n",
    "    print('Your grade is A')\n",
    "elif avg >= 80:\n",
    "    print('Your grade is B')\n",
    "elif avg >= 70:\n",
    "    print('Your grade is C')\n",
    "elif avg >= 60:\n",
    "    print('Your grade is D')\n",
    "else:\n",
    "    print('Your grade is F')\n",
    "\n",
    "print('your average is:' ,str(avg))"
   ]
  },
  {
   "cell_type": "code",
   "execution_count": 94,
   "id": "803f3690-6dd0-41b5-adcc-acf9ff6c3420",
   "metadata": {},
   "outputs": [
    {
     "name": "stdout",
     "output_type": "stream",
     "text": [
      "1\n",
      "3\n",
      "5\n",
      "7\n",
      "9\n"
     ]
    }
   ],
   "source": [
    "for i in range(1,10,2):\n",
    "    print(i)\n"
   ]
  },
  {
   "cell_type": "code",
   "execution_count": 3,
   "id": "2314f7fc-29ed-431e-b3ac-4742eb63cfbc",
   "metadata": {},
   "outputs": [
    {
     "name": "stdout",
     "output_type": "stream",
     "text": [
      "the sum of all numbers fromm 1 to 100 is: 4950\n"
     ]
    }
   ],
   "source": [
    "sum = 0\n",
    "for i in range(100):\n",
    "    sum += i\n",
    "print('the sum of all numbers fromm 1 to 100 is:', str(sum))"
   ]
  },
  {
   "cell_type": "code",
   "execution_count": 17,
   "id": "4dde1ce9-6dd6-40aa-ab1b-3d973d385f92",
   "metadata": {},
   "outputs": [
    {
     "name": "stdout",
     "output_type": "stream",
     "text": [
      "Enter 1st number:  6\n",
      "Enter 2nd number:  3\n"
     ]
    },
    {
     "name": "stdout",
     "output_type": "stream",
     "text": [
      "Simple Calculator\n",
      "Select operation:\n",
      "1. Add\n",
      "2. Subtract\n",
      "3. Multiply\n",
      "4. Divide\n"
     ]
    },
    {
     "name": "stdout",
     "output_type": "stream",
     "text": [
      "Enter choice (1/2/3/4):  1\n",
      "Enter first number:  6\n",
      "Enter second number:  3\n"
     ]
    },
    {
     "name": "stdout",
     "output_type": "stream",
     "text": [
      "The result is: 9.0\n"
     ]
    },
    {
     "name": "stdout",
     "output_type": "stream",
     "text": [
      "Do you want to perform another calculation? (yes/no):  no\n"
     ]
    }
   ],
   "source": [
    "def add(x, y):\n",
    "    return x + y\n",
    "\n",
    "def subtract(x, y):\n",
    "    return x - y\n",
    "\n",
    "def multiply(x, y):\n",
    "    return x * y\n",
    "\n",
    "def divide(x, y):\n",
    "    if y == 0:\n",
    "        return \"Error! Division by zero.\"\n",
    "    return x / y\n",
    "\n",
    "def main():\n",
    "    print(\"Simple Calculator\")\n",
    "    print(\"Select operation:\")\n",
    "    print(\"1. Add\")\n",
    "    print(\"2. Subtract\")\n",
    "    print(\"3. Multiply\")\n",
    "    print(\"4. Divide\")\n",
    "\n",
    "    while True:\n",
    "        choice = input(\"Enter choice (1/2/3/4): \")\n",
    "\n",
    "        if choice in ('1', '2', '3', '4'):\n",
    "            num1 = float(input(\"Enter first number: \"))\n",
    "            num2 = float(input(\"Enter second number: \"))\n",
    "\n",
    "            if choice == '1':\n",
    "                print(f\"The result is: {add(num1, num2)}\")\n",
    "            elif choice == '2':\n",
    "                print(f\"The result is: {subtract(num1, num2)}\")\n",
    "            elif choice == '3':\n",
    "                print(f\"The result is: {multiply(num1, num2)}\")\n",
    "            elif choice == '4':\n",
    "                print(f\"The result is: {divide(num1, num2)}\")\n",
    "        else:\n",
    "            print(\"Invalid input! Please enter a number between 1 and 4.\")\n",
    "\n",
    "        \n",
    "        next_calculation = input(\"Do you want to perform another calculation? (yes/no): \")\n",
    "        if next_calculation.lower() != 'yes':\n",
    "            break\n",
    "\n",
    "if __name__ == \"__main__\":\n",
    "    main()\n"
   ]
  },
  {
   "cell_type": "code",
   "execution_count": 21,
   "id": "f4f30566-078d-47d8-8d70-b7b580eb6d8a",
   "metadata": {},
   "outputs": [
    {
     "name": "stdout",
     "output_type": "stream",
     "text": [
      "Simple Calculator\n",
      "Select operation:\n",
      "1. Add\n",
      "2. Subtract\n",
      "3. Multiply\n",
      "4. Divide\n",
      "5. Modulus\n",
      "6. Floor Division\n",
      "7. Exponentiation\n"
     ]
    },
    {
     "name": "stdout",
     "output_type": "stream",
     "text": [
      "Enter choice (1/2/3/4/5/6/7):  6\n",
      "Enter first number:  120\n",
      "Enter second number:  25\n"
     ]
    },
    {
     "name": "stdout",
     "output_type": "stream",
     "text": [
      "The result is: 4.0\n"
     ]
    },
    {
     "name": "stdout",
     "output_type": "stream",
     "text": [
      "Do you want to perform another calculation? (yes/no):  yes\n",
      "Enter choice (1/2/3/4/5/6/7):  7\n",
      "Enter first number:  4\n",
      "Enter second number:  2\n"
     ]
    },
    {
     "name": "stdout",
     "output_type": "stream",
     "text": [
      "The result is: 16.0\n"
     ]
    },
    {
     "name": "stdout",
     "output_type": "stream",
     "text": [
      "Do you want to perform another calculation? (yes/no):  no\n"
     ]
    }
   ],
   "source": [
    "def add(x, y):\n",
    "    return x + y\n",
    "\n",
    "def subtract(x, y):\n",
    "    return x - y\n",
    "\n",
    "def multiply(x, y):\n",
    "    return x * y\n",
    "\n",
    "def divide(x, y):\n",
    "    if y == 0:\n",
    "        return \"Error! Division by zero.\"\n",
    "    return x / y\n",
    "\n",
    "def modulus(x, y):\n",
    "    if y == 0:\n",
    "        return \"Error! Division by zero.\"\n",
    "    return x % y\n",
    "\n",
    "def floor_division(x, y):\n",
    "    if y == 0:\n",
    "        return \"Error! Division by zero.\"\n",
    "    return x // y\n",
    "\n",
    "def exponent(x, y):\n",
    "    return x ** y\n",
    "\n",
    "def main():\n",
    "    print(\"Simple Calculator\")\n",
    "    print(\"Select operation:\")\n",
    "    print(\"1. Add\")\n",
    "    print(\"2. Subtract\")\n",
    "    print(\"3. Multiply\")\n",
    "    print(\"4. Divide\")\n",
    "    print(\"5. Modulus\")\n",
    "    print(\"6. Floor Division\")\n",
    "    print(\"7. Exponentiation\")\n",
    "\n",
    "    while True:\n",
    "        choice = input(\"Enter choice (1/2/3/4/5/6/7): \")\n",
    "\n",
    "        if choice in ('1', '2', '3', '4', '5', '6', '7'):\n",
    "            num1 = float(input(\"Enter first number: \"))\n",
    "            num2 = float(input(\"Enter second number: \"))\n",
    "\n",
    "            if choice == '1':\n",
    "                print(f\"The result is: {add(num1, num2)}\")\n",
    "            elif choice == '2':\n",
    "                print(f\"The result is: {subtract(num1, num2)}\")\n",
    "            elif choice == '3':\n",
    "                print(f\"The result is: {multiply(num1, num2)}\")\n",
    "            elif choice == '4':\n",
    "                print(f\"The result is: {divide(num1, num2)}\")\n",
    "            elif choice == '5':\n",
    "                print(f\"The result is: {modulus(num1, num2)}\")\n",
    "            elif choice == '6':\n",
    "                print(f\"The result is: {floor_division(num1, num2)}\")\n",
    "            elif choice == '7':\n",
    "                print(f\"The result is: {exponent(num1, num2)}\")\n",
    "        else:\n",
    "            print(\"Invalid input! Please enter a number between 1 and 7.\")\n",
    "\n",
    "        # Ask the user if they want to continue or exit\n",
    "        next_calculation = input(\"Do you want to perform another calculation? (yes/no): \")\n",
    "        if next_calculation.lower() != 'yes':\n",
    "            break\n",
    "\n",
    "if __name__ == \"__main__\":\n",
    "    main()\n"
   ]
  },
  {
   "cell_type": "code",
   "execution_count": 23,
   "id": "4a3dea52-d2e4-425e-9cad-c3661ed8c6d6",
   "metadata": {},
   "outputs": [
    {
     "name": "stdout",
     "output_type": "stream",
     "text": [
      "Enter the radius of the circle:  3\n"
     ]
    },
    {
     "name": "stdout",
     "output_type": "stream",
     "text": [
      "Area of the circle: 28.27\n",
      "Circumference of the circle: 18.85\n"
     ]
    }
   ],
   "source": [
    "import math\n",
    "\n",
    "def circle_properties(radius):\n",
    "   \n",
    "    if radius < 0:\n",
    "        return \"Error! Radius cannot be negative.\"\n",
    "    \n",
    "    area = math.pi * (radius ** 2)\n",
    "    circumference = 2 * math.pi * radius\n",
    "    \n",
    "    return area, circumference\n",
    "\n",
    "\n",
    "def main():\n",
    "   \n",
    "    radius = float(input(\"Enter the radius of the circle: \"))\n",
    "    \n",
    "    \n",
    "    result = circle_properties(radius)\n",
    "    \n",
    "    if isinstance(result, tuple):\n",
    "        area, circumference = result\n",
    "        print(f\"Area of the circle: {area:.2f}\")\n",
    "        print(f\"Circumference of the circle: {circumference:.2f}\")\n",
    "    else:\n",
    "        print(result)\n",
    "\n",
    "if __name__ == \"__main__\":\n",
    "    main()\n"
   ]
  },
  {
   "cell_type": "code",
   "execution_count": null,
   "id": "3cb3a2e7-e26a-4c0f-9565-0849371bf847",
   "metadata": {},
   "outputs": [],
   "source": []
  }
 ],
 "metadata": {
  "kernelspec": {
   "display_name": "Python 3 (ipykernel)",
   "language": "python",
   "name": "python3"
  },
  "language_info": {
   "codemirror_mode": {
    "name": "ipython",
    "version": 3
   },
   "file_extension": ".py",
   "mimetype": "text/x-python",
   "name": "python",
   "nbconvert_exporter": "python",
   "pygments_lexer": "ipython3",
   "version": "3.12.4"
  }
 },
 "nbformat": 4,
 "nbformat_minor": 5
}
